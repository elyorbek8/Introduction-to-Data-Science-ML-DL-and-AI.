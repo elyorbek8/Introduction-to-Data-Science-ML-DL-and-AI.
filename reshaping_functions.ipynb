{
  "nbformat": 4,
  "nbformat_minor": 0,
  "metadata": {
    "colab": {
      "provenance": [],
      "authorship_tag": "ABX9TyMtQLCDyYNk+YLrqZ7idhqN",
      "include_colab_link": true
    },
    "kernelspec": {
      "name": "python3",
      "display_name": "Python 3"
    },
    "language_info": {
      "name": "python"
    }
  },
  "cells": [
    {
      "cell_type": "markdown",
      "metadata": {
        "id": "view-in-github",
        "colab_type": "text"
      },
      "source": [
        "<a href=\"https://colab.research.google.com/github/elyorbek8/Introduction-to-Data-Science-ML-DL-and-AI./blob/main/reshaping_functions.ipynb\" target=\"_parent\"><img src=\"https://colab.research.google.com/assets/colab-badge.svg\" alt=\"Open In Colab\"/></a>"
      ]
    },
    {
      "cell_type": "markdown",
      "source": [
        "# Reshaping an array-swinging an array's axes"
      ],
      "metadata": {
        "id": "5yzB1RMGQuDf"
      }
    },
    {
      "cell_type": "code",
      "source": [
        "import numpy as np"
      ],
      "metadata": {
        "id": "zVhc7ZcoRJBZ"
      },
      "execution_count": 1,
      "outputs": []
    },
    {
      "cell_type": "code",
      "execution_count": 31,
      "metadata": {
        "colab": {
          "base_uri": "https://localhost:8080/"
        },
        "id": "-QlyIZayDhbi",
        "outputId": "b3d64aa2-6b86-494b-ca32-553a8ff7f4fa"
      },
      "outputs": [
        {
          "output_type": "stream",
          "name": "stdout",
          "text": [
            "[1 2 3 4 5 6]\n"
          ]
        },
        {
          "output_type": "execute_result",
          "data": {
            "text/plain": [
              "array([[1, 2, 3],\n",
              "       [4, 5, 6]])"
            ]
          },
          "metadata": {},
          "execution_count": 31
        }
      ],
      "source": [
        "# reshape() function\n",
        "arr1 = np.arange(1, 7)\n",
        "print(arr1)\n",
        "arr2 = arr1.reshape(2,3)\n",
        "arr2"
      ]
    },
    {
      "cell_type": "code",
      "source": [
        "# transpose method\n",
        "print(arr2)\n",
        "print(f\"\\nTransposed arr:\\n {arr2.T}\")"
      ],
      "metadata": {
        "colab": {
          "base_uri": "https://localhost:8080/"
        },
        "id": "KW7jq4yATRCS",
        "outputId": "ee4c8478-6179-4d35-c522-035e56a928d5"
      },
      "execution_count": 32,
      "outputs": [
        {
          "output_type": "stream",
          "name": "stdout",
          "text": [
            "[[1 2 3]\n",
            " [4 5 6]]\n",
            "\n",
            "Transposed arr:\n",
            " [[1 4]\n",
            " [2 5]\n",
            " [3 6]]\n"
          ]
        }
      ]
    },
    {
      "cell_type": "code",
      "source": [
        "# swaping an array's axes\n",
        "print(arr2)\n",
        "arr2.swapaxes(1,0)\n"
      ],
      "metadata": {
        "colab": {
          "base_uri": "https://localhost:8080/"
        },
        "id": "VYUmvcAfUA95",
        "outputId": "b5973642-8a5e-4735-b083-45627e54798c"
      },
      "execution_count": 15,
      "outputs": [
        {
          "output_type": "stream",
          "name": "stdout",
          "text": [
            "[[1 2 3]\n",
            " [4 5 6]]\n"
          ]
        },
        {
          "output_type": "execute_result",
          "data": {
            "text/plain": [
              "array([[1, 4],\n",
              "       [2, 5],\n",
              "       [3, 6]])"
            ]
          },
          "metadata": {},
          "execution_count": 15
        }
      ]
    },
    {
      "cell_type": "code",
      "source": [
        "# creating two arrays with contrary elements\n",
        "arr3 = np.arange(1,10).reshape(3,3)\n",
        "arr4 = np.arange(-9,0)\n",
        "arr4r = arr4[::-1].reshape(3,3) # reversing order of elements\n",
        "\n",
        "print(f\"arr3:\\n {arr3}\\n\\n arr4r:\\n {arr4r}\")"
      ],
      "metadata": {
        "colab": {
          "base_uri": "https://localhost:8080/"
        },
        "id": "7WdWg-1EZNzB",
        "outputId": "e658f7e2-8176-45b0-dc38-b438b7b3a22a"
      },
      "execution_count": 49,
      "outputs": [
        {
          "output_type": "stream",
          "name": "stdout",
          "text": [
            "arr3:\n",
            " [[1 2 3]\n",
            " [4 5 6]\n",
            " [7 8 9]]\n",
            "\n",
            " arr4r:\n",
            " [[-1 -2 -3]\n",
            " [-4 -5 -6]\n",
            " [-7 -8 -9]]\n"
          ]
        }
      ]
    },
    {
      "cell_type": "code",
      "source": [
        "# dot() function\n",
        "arr_sum = np.dot(arr3, arr4r)\n",
        "arr_sum"
      ],
      "metadata": {
        "colab": {
          "base_uri": "https://localhost:8080/"
        },
        "id": "lxC2jefxfFAu",
        "outputId": "6a38cd03-9c94-4401-b31c-ac65ce335df0"
      },
      "execution_count": 51,
      "outputs": [
        {
          "output_type": "execute_result",
          "data": {
            "text/plain": [
              "array([[ -30,  -36,  -42],\n",
              "       [ -66,  -81,  -96],\n",
              "       [-102, -126, -150]])"
            ]
          },
          "metadata": {},
          "execution_count": 51
        }
      ]
    },
    {
      "cell_type": "markdown",
      "source": [
        "# Universal and binary functions"
      ],
      "metadata": {
        "id": "rSEDQudWmRQu"
      }
    },
    {
      "cell_type": "code",
      "source": [
        "# sqrt()\n",
        "print(arr3)\n",
        "np.sqrt(arr3)\n"
      ],
      "metadata": {
        "colab": {
          "base_uri": "https://localhost:8080/"
        },
        "id": "LOhv1LvQmbXA",
        "outputId": "38f1421a-8644-4a9c-fcb9-7210fc0f9f54"
      },
      "execution_count": 57,
      "outputs": [
        {
          "output_type": "stream",
          "name": "stdout",
          "text": [
            "[[1 2 3]\n",
            " [4 5 6]\n",
            " [7 8 9]]\n"
          ]
        },
        {
          "output_type": "execute_result",
          "data": {
            "text/plain": [
              "array([[1.        , 1.41421356, 1.73205081],\n",
              "       [2.        , 2.23606798, 2.44948974],\n",
              "       [2.64575131, 2.82842712, 3.        ]])"
            ]
          },
          "metadata": {},
          "execution_count": 57
        }
      ]
    },
    {
      "cell_type": "code",
      "source": [
        "# add()\n",
        "print(f\"arr3:\\n {arr3}\\n arr4r:\\n {arr4r}\\n\")\n",
        "np.add(arr3,arr4r)"
      ],
      "metadata": {
        "colab": {
          "base_uri": "https://localhost:8080/"
        },
        "id": "rj5LhJQzm8qh",
        "outputId": "d6a5e849-9a7a-48f6-c7be-c8fcac3acb08"
      },
      "execution_count": 60,
      "outputs": [
        {
          "output_type": "stream",
          "name": "stdout",
          "text": [
            "arr3:\n",
            " [[1 2 3]\n",
            " [4 5 6]\n",
            " [7 8 9]]\n",
            " arr4r:\n",
            " [[-1 -2 -3]\n",
            " [-4 -5 -6]\n",
            " [-7 -8 -9]]\n",
            "\n"
          ]
        },
        {
          "output_type": "execute_result",
          "data": {
            "text/plain": [
              "array([[0, 0, 0],\n",
              "       [0, 0, 0],\n",
              "       [0, 0, 0]])"
            ]
          },
          "metadata": {},
          "execution_count": 60
        }
      ]
    },
    {
      "cell_type": "markdown",
      "source": [],
      "metadata": {
        "id": "uuaAwv0-QsQF"
      }
    }
  ]
}