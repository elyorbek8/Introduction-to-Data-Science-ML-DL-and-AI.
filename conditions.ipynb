{
  "nbformat": 4,
  "nbformat_minor": 0,
  "metadata": {
    "colab": {
      "provenance": [],
      "authorship_tag": "ABX9TyNFtFhd4KNRiw3SKePQHLSa",
      "include_colab_link": true
    },
    "kernelspec": {
      "name": "python3",
      "display_name": "Python 3"
    },
    "language_info": {
      "name": "python"
    }
  },
  "cells": [
    {
      "cell_type": "markdown",
      "metadata": {
        "id": "view-in-github",
        "colab_type": "text"
      },
      "source": [
        "<a href=\"https://colab.research.google.com/github/elyorbek8/Introduction-to-Data-Science-ML-DL-and-AI./blob/main/conditions.ipynb\" target=\"_parent\"><img src=\"https://colab.research.google.com/assets/colab-badge.svg\" alt=\"Open In Colab\"/></a>"
      ]
    },
    {
      "cell_type": "markdown",
      "source": [
        "# Conditional operators"
      ],
      "metadata": {
        "id": "w-5Wx0wkqyri"
      }
    },
    {
      "cell_type": "code",
      "execution_count": 1,
      "metadata": {
        "id": "da4pmtvoo5g_"
      },
      "outputs": [],
      "source": [
        "import numpy as np"
      ]
    },
    {
      "cell_type": "code",
      "source": [
        "# using where operator\n",
        "arr1 = np.array([1.1, 1.2, 1.3, 1.4, 1.5])\n",
        "arr2 = np.array([2.1, 2.2, 2.3, 2.4, 2.5])\n",
        "\n",
        "condition = np.array([True, False, False, True, True]) # declaring a condition\n",
        "result = np.where(condition, arr1, arr2) # if the condition is True, result == arr1, else, result == arr2\n",
        "result"
      ],
      "metadata": {
        "colab": {
          "base_uri": "https://localhost:8080/"
        },
        "id": "ilwaKoBKrBkf",
        "outputId": "937156de-5fc4-42da-8d5d-0c6032c6601e"
      },
      "execution_count": 2,
      "outputs": [
        {
          "output_type": "execute_result",
          "data": {
            "text/plain": [
              "array([1.1, 2.2, 2.3, 1.4, 1.5])"
            ]
          },
          "metadata": {},
          "execution_count": 2
        }
      ]
    },
    {
      "cell_type": "code",
      "source": [
        "# where another example\n",
        "arr = np.random.randn(4, 4)\n",
        "print(arr,\"\\n\")\n",
        "result_arr = np.where(arr<0, -8, 8)\n",
        "result_arr\n"
      ],
      "metadata": {
        "colab": {
          "base_uri": "https://localhost:8080/"
        },
        "id": "SdwZaCN0uRwT",
        "outputId": "156e189e-f7ab-49ff-a0a1-85aed209967f"
      },
      "execution_count": 4,
      "outputs": [
        {
          "output_type": "stream",
          "name": "stdout",
          "text": [
            "[[-0.66061618 -1.15060688 -0.36660222 -0.50084165]\n",
            " [-1.98092601 -2.00186643  0.61590177 -1.15199763]\n",
            " [-1.30889771 -0.7089416  -0.65143195 -0.19888431]\n",
            " [-0.20909948 -0.66974623  0.38089264 -2.17156569]] \n",
            "\n"
          ]
        },
        {
          "output_type": "execute_result",
          "data": {
            "text/plain": [
              "array([[-8, -8, -8, -8],\n",
              "       [-8, -8,  8, -8],\n",
              "       [-8, -8, -8, -8],\n",
              "       [-8, -8,  8, -8]])"
            ]
          },
          "metadata": {},
          "execution_count": 4
        }
      ]
    }
  ]
}