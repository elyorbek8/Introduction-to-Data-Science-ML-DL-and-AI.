{
  "nbformat": 4,
  "nbformat_minor": 0,
  "metadata": {
    "colab": {
      "provenance": [],
      "authorship_tag": "ABX9TyNRumpBUD1iYZHVQjAzU5YB",
      "include_colab_link": true
    },
    "kernelspec": {
      "name": "python3",
      "display_name": "Python 3"
    },
    "language_info": {
      "name": "python"
    }
  },
  "cells": [
    {
      "cell_type": "markdown",
      "metadata": {
        "id": "view-in-github",
        "colab_type": "text"
      },
      "source": [
        "<a href=\"https://colab.research.google.com/github/elyorbek8/Introduction-to-Data-Science-ML-DL-and-AI./blob/main/numpy_intro.ipynb\" target=\"_parent\"><img src=\"https://colab.research.google.com/assets/colab-badge.svg\" alt=\"Open In Colab\"/></a>"
      ]
    },
    {
      "cell_type": "markdown",
      "source": [
        "# Introduction to Numpy Library"
      ],
      "metadata": {
        "id": "ppQplFPCq61N"
      }
    },
    {
      "cell_type": "markdown",
      "source": [
        "#Comparing the time of normal and vectorized processing"
      ],
      "metadata": {
        "id": "hVVRCiz8rCT-"
      }
    },
    {
      "cell_type": "code",
      "source": [
        "# importing numpy\n",
        "import numpy as np"
      ],
      "metadata": {
        "id": "muVFOjqPhlQl"
      },
      "execution_count": 1,
      "outputs": []
    },
    {
      "cell_type": "code",
      "source": [
        "# converting a list to an array\n",
        "my_list = list(range(1, 100_001)) # list in range 1~100_000 as normap\n",
        "my_array = np.array(range(1, 100_001)) # array in range 1~100_000 as vectorized"
      ],
      "metadata": {
        "id": "KxYgap1HhvyI"
      },
      "execution_count": null,
      "outputs": []
    },
    {
      "cell_type": "code",
      "source": [
        "# calculating normal processing time\n",
        "%time for _ in range(10): [x*3 for x in my_list]"
      ],
      "metadata": {
        "colab": {
          "base_uri": "https://localhost:8080/"
        },
        "id": "-RSAUraHjf3y",
        "outputId": "91227e03-6cbc-4b14-efcb-f29e66edb65d"
      },
      "execution_count": null,
      "outputs": [
        {
          "output_type": "stream",
          "name": "stdout",
          "text": [
            "CPU times: user 85.3 ms, sys: 1.78 ms, total: 87.1 ms\n",
            "Wall time: 88.7 ms\n"
          ]
        }
      ]
    },
    {
      "cell_type": "code",
      "source": [
        "# calculalting vectorized processing time\n",
        "%time for _ in range(10): my_array*3"
      ],
      "metadata": {
        "colab": {
          "base_uri": "https://localhost:8080/"
        },
        "id": "rlyeGX4bkbxY",
        "outputId": "d5595305-148b-4efc-a5b8-76e7afc47075"
      },
      "execution_count": null,
      "outputs": [
        {
          "output_type": "stream",
          "name": "stdout",
          "text": [
            "CPU times: user 4.44 ms, sys: 0 ns, total: 4.44 ms\n",
            "Wall time: 7.07 ms\n"
          ]
        }
      ]
    },
    {
      "cell_type": "markdown",
      "source": [
        "#Different ways of creating an array by using numpy array method\n",
        "\n",
        "\n",
        "\n"
      ],
      "metadata": {
        "id": "QYnrdIztqCfJ"
      }
    },
    {
      "cell_type": "code",
      "source": [
        "# converting list to array\n",
        "list = [1, 2, 3, 4, 5] # list\n",
        "arr1 = np.array(list) # array\n"
      ],
      "metadata": {
        "id": "NuNUkiZhqUCJ"
      },
      "execution_count": 12,
      "outputs": []
    },
    {
      "cell_type": "code",
      "source": [
        "arr1"
      ],
      "metadata": {
        "colab": {
          "base_uri": "https://localhost:8080/"
        },
        "id": "PLZEog8vsR2E",
        "outputId": "bd5b3456-bccd-4bbb-d5d1-a8b72ac0534b"
      },
      "execution_count": null,
      "outputs": [
        {
          "output_type": "execute_result",
          "data": {
            "text/plain": [
              "array([1, 2, 3, 4, 5])"
            ]
          },
          "metadata": {},
          "execution_count": 13
        }
      ]
    },
    {
      "cell_type": "code",
      "source": [
        "# converting a tuple to an array\n",
        "tup = (1, 2, 4.4, 78.1) # tuple\n",
        "arr2 = np.array(tup) # array"
      ],
      "metadata": {
        "id": "_sgPA6jusYnS"
      },
      "execution_count": 8,
      "outputs": []
    },
    {
      "cell_type": "code",
      "source": [
        "arr2"
      ],
      "metadata": {
        "colab": {
          "base_uri": "https://localhost:8080/"
        },
        "id": "l9B9G6zUtDFa",
        "outputId": "417f1281-3474-4ce1-e490-2ab3317c598c"
      },
      "execution_count": 9,
      "outputs": [
        {
          "output_type": "execute_result",
          "data": {
            "text/plain": [
              "array([ 1. ,  2. ,  4.4, 78.1])"
            ]
          },
          "metadata": {},
          "execution_count": 9
        }
      ]
    },
    {
      "cell_type": "markdown",
      "source": [
        "Dimention of an array"
      ],
      "metadata": {
        "id": "LdVOQEYBuFMT"
      }
    },
    {
      "cell_type": "code",
      "source": [
        "print(arr1.ndim)\n",
        "print(arr2.ndim)"
      ],
      "metadata": {
        "colab": {
          "base_uri": "https://localhost:8080/"
        },
        "id": "hNJ8AIN6uMZN",
        "outputId": "9dd58156-731b-4457-baca-dbc15f1ff877"
      },
      "execution_count": null,
      "outputs": [
        {
          "output_type": "stream",
          "name": "stdout",
          "text": [
            "1\n",
            "1\n"
          ]
        }
      ]
    },
    {
      "cell_type": "markdown",
      "source": [
        "# Multidimentional arrays (N-dimentional)"
      ],
      "metadata": {
        "id": "7Pu3sjotuhG0"
      }
    },
    {
      "cell_type": "markdown",
      "source": [
        "#Creating 2D array"
      ],
      "metadata": {
        "id": "WwZijJpruz_C"
      }
    },
    {
      "cell_type": "code",
      "source": [
        "# creating 2D array by converting nested list\n",
        "list2 = [[1,2,3],[4,5,6], [7,8,9]] # nested list\n",
        "arr2d = np.array(list2) # 2D array"
      ],
      "metadata": {
        "id": "YZxjKQl6uwg2"
      },
      "execution_count": 3,
      "outputs": []
    },
    {
      "cell_type": "code",
      "source": [
        "print(f\"nested list: {list2}\")\n",
        "print(f\"2D array or matrix:\\n {arr2d}\")"
      ],
      "metadata": {
        "colab": {
          "base_uri": "https://localhost:8080/"
        },
        "id": "dn1ziDn7vd2H",
        "outputId": "42cc01ef-49a6-4c09-8213-763d3bec1ce5"
      },
      "execution_count": 4,
      "outputs": [
        {
          "output_type": "stream",
          "name": "stdout",
          "text": [
            "nested list: [[1, 2, 3], [4, 5, 6], [7, 8, 9]]\n",
            "2D array or matrix:\n",
            " [[1 2 3]\n",
            " [4 5 6]\n",
            " [7 8 9]]\n"
          ]
        }
      ]
    },
    {
      "cell_type": "code",
      "source": [
        "# printing a specific element\n",
        "print(arr2d[2,2])"
      ],
      "metadata": {
        "colab": {
          "base_uri": "https://localhost:8080/"
        },
        "id": "MaaQhky9xc0s",
        "outputId": "e47308f7-27d2-4d5a-e67c-a1bdc61bd2ea"
      },
      "execution_count": null,
      "outputs": [
        {
          "output_type": "stream",
          "name": "stdout",
          "text": [
            "9\n"
          ]
        }
      ]
    },
    {
      "cell_type": "markdown",
      "source": [
        "# Creating 3D array\n"
      ],
      "metadata": {
        "id": "Eh8sxowNyO30"
      }
    },
    {
      "cell_type": "code",
      "source": [
        "# converting list to 3D array\n",
        "list3 = [[[1,2,3],[4,5,6],[7,8,9]],\n",
        " [[10,11,12],[13,14,15],[16,17,18]],\n",
        "  [[19,20,21],[22,23,24],[25,26,27]]]\n",
        "\n",
        "arr3d = np.array(list3) # 3D array"
      ],
      "metadata": {
        "id": "8lWQ8OuGyVYs"
      },
      "execution_count": 5,
      "outputs": []
    },
    {
      "cell_type": "code",
      "source": [
        "print(f\"3 times nested list:\\n {list3}\")\n",
        "print(f\"\\n3D array:\\n {arr3d}\")"
      ],
      "metadata": {
        "colab": {
          "base_uri": "https://localhost:8080/"
        },
        "id": "XWuEF_S81GFK",
        "outputId": "af8f1d73-b2b1-40de-9580-d1ed6e26f1af"
      },
      "execution_count": 6,
      "outputs": [
        {
          "output_type": "stream",
          "name": "stdout",
          "text": [
            "3 times nested list:\n",
            " [[[1, 2, 3], [4, 5, 6], [7, 8, 9]], [[10, 11, 12], [13, 14, 15], [16, 17, 18]], [[19, 20, 21], [22, 23, 24], [25, 26, 27]]]\n",
            "\n",
            "3D array:\n",
            " [[[ 1  2  3]\n",
            "  [ 4  5  6]\n",
            "  [ 7  8  9]]\n",
            "\n",
            " [[10 11 12]\n",
            "  [13 14 15]\n",
            "  [16 17 18]]\n",
            "\n",
            " [[19 20 21]\n",
            "  [22 23 24]\n",
            "  [25 26 27]]]\n"
          ]
        }
      ]
    },
    {
      "cell_type": "code",
      "source": [
        "# printing a certain element\n",
        "print(arr3d[1,2,2])"
      ],
      "metadata": {
        "colab": {
          "base_uri": "https://localhost:8080/"
        },
        "id": "USJsz1PN1wrK",
        "outputId": "082ef81c-76bd-4dfe-8bc7-a15e477613f8"
      },
      "execution_count": null,
      "outputs": [
        {
          "output_type": "stream",
          "name": "stdout",
          "text": [
            "18\n"
          ]
        }
      ]
    },
    {
      "cell_type": "markdown",
      "source": [
        "#shape and size of an array"
      ],
      "metadata": {
        "id": "2W49io6hNO-P"
      }
    },
    {
      "cell_type": "code",
      "source": [
        "# printing arrays' shapes and sizes: shape = (r,c), size = the num of elements\n",
        "# 1D array\n",
        "print(f\"1D array:\\n{arr1}\\n its shape: {arr1.shape}\\n its size: {arr1.size}\")\n",
        "\n",
        "# 2D array\n",
        "print(f\"\\n2D array:\\n{arr2d}\\n its shape: {arr2d.shape}\\n its size: {arr2d.size}\")\n",
        "\n",
        "# 3D array\n",
        "print(f\"\\n3D array:\\n{arr3d}\\n its shape: {arr3d.shape}\\n its size: {arr3d.size}\")\n"
      ],
      "metadata": {
        "colab": {
          "base_uri": "https://localhost:8080/"
        },
        "id": "eNERkm3rNZMz",
        "outputId": "d18058c0-6f10-4c5b-e71d-b3d80602aa1d"
      },
      "execution_count": 16,
      "outputs": [
        {
          "output_type": "stream",
          "name": "stdout",
          "text": [
            "1D array:\n",
            "[1 2 3 4 5]\n",
            " its shape: (5,)\n",
            " its size: 5\n",
            "\n",
            "2D array:\n",
            "[[1 2 3]\n",
            " [4 5 6]\n",
            " [7 8 9]]\n",
            " its shape: (3, 3)\n",
            " its size: 9\n",
            "\n",
            "3D array:\n",
            "[[[ 1  2  3]\n",
            "  [ 4  5  6]\n",
            "  [ 7  8  9]]\n",
            "\n",
            " [[10 11 12]\n",
            "  [13 14 15]\n",
            "  [16 17 18]]\n",
            "\n",
            " [[19 20 21]\n",
            "  [22 23 24]\n",
            "  [25 26 27]]]\n",
            " its shape: (3, 3, 3)\n",
            " its size: 27\n"
          ]
        }
      ]
    },
    {
      "cell_type": "code",
      "source": [],
      "metadata": {
        "id": "9XsgvDEVOlS7"
      },
      "execution_count": null,
      "outputs": []
    },
    {
      "cell_type": "markdown",
      "source": [
        "#*zeros* and *ones* functions for creating an array"
      ],
      "metadata": {
        "id": "-GAevGevRS0c"
      }
    },
    {
      "cell_type": "code",
      "source": [
        "# creating 3:4 array with only zero elements by zeros function\n",
        "arrz = np.zeros(shape=(3,4))\n",
        "print(arrz)"
      ],
      "metadata": {
        "colab": {
          "base_uri": "https://localhost:8080/"
        },
        "id": "77Vf4lPhRxZV",
        "outputId": "b355f3ba-162a-4d6d-e1c2-cc4026f086ff"
      },
      "execution_count": 19,
      "outputs": [
        {
          "output_type": "stream",
          "name": "stdout",
          "text": [
            "[[0. 0. 0. 0.]\n",
            " [0. 0. 0. 0.]\n",
            " [0. 0. 0. 0.]]\n"
          ]
        }
      ]
    },
    {
      "cell_type": "code",
      "source": [],
      "metadata": {
        "id": "-czQCKfaRoHh"
      },
      "execution_count": null,
      "outputs": []
    },
    {
      "cell_type": "code",
      "source": [
        "# creating 4:3 array with only one elements by ones function\n",
        "arro = np.ones(shape=(4,3))\n",
        "print(arro)"
      ],
      "metadata": {
        "colab": {
          "base_uri": "https://localhost:8080/"
        },
        "id": "VJTEt0XySfEi",
        "outputId": "94521cbf-9ddf-48e6-b94a-fdb402c1464e"
      },
      "execution_count": 20,
      "outputs": [
        {
          "output_type": "stream",
          "name": "stdout",
          "text": [
            "[[1. 1. 1.]\n",
            " [1. 1. 1.]\n",
            " [1. 1. 1.]\n",
            " [1. 1. 1.]]\n"
          ]
        }
      ]
    },
    {
      "cell_type": "markdown",
      "source": [
        "#arange function"
      ],
      "metadata": {
        "id": "nNgEpHFaTuvc"
      }
    },
    {
      "cell_type": "code",
      "source": [
        "arrarn = np.arange(1,20,2) # array with elements from 1 to 19 in 2 step\n",
        "print(arrarn)"
      ],
      "metadata": {
        "colab": {
          "base_uri": "https://localhost:8080/"
        },
        "id": "1MTvo78NTx8i",
        "outputId": "e4a78dde-e384-4d9d-90bb-c55251117633"
      },
      "execution_count": 22,
      "outputs": [
        {
          "output_type": "stream",
          "name": "stdout",
          "text": [
            "[ 1  3  5  7  9 11 13 15 17 19]\n"
          ]
        }
      ]
    }
  ]
}