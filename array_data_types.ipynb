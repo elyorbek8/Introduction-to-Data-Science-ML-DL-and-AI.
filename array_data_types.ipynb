{
  "nbformat": 4,
  "nbformat_minor": 0,
  "metadata": {
    "colab": {
      "provenance": [],
      "authorship_tag": "ABX9TyM1u4pJj8oHU9WnMCJKCuQM",
      "include_colab_link": true
    },
    "kernelspec": {
      "name": "python3",
      "display_name": "Python 3"
    },
    "language_info": {
      "name": "python"
    }
  },
  "cells": [
    {
      "cell_type": "markdown",
      "metadata": {
        "id": "view-in-github",
        "colab_type": "text"
      },
      "source": [
        "<a href=\"https://colab.research.google.com/github/elyorbek8/Introduction-to-Data-Science-ML-DL-and-AI./blob/main/array_data_types.ipynb\" target=\"_parent\"><img src=\"https://colab.research.google.com/assets/colab-badge.svg\" alt=\"Open In Colab\"/></a>"
      ]
    },
    {
      "cell_type": "markdown",
      "source": [
        "#Data Types in arrays"
      ],
      "metadata": {
        "id": "VHGo4RT41xXW"
      }
    },
    {
      "cell_type": "markdown",
      "source": [
        "#declaring data type while creating an array"
      ],
      "metadata": {
        "id": "c0sNafmN145a"
      }
    },
    {
      "cell_type": "code",
      "source": [
        "import numpy as np\n"
      ],
      "metadata": {
        "id": "gHCGy2002QWF"
      },
      "execution_count": 3,
      "outputs": []
    },
    {
      "cell_type": "code",
      "source": [
        "# defining data type of an array.\n",
        "arrd = np.array([1, 2, 3], dtype=np.float32)\n",
        "print(arrd)\n",
        "print(arrd.dtype)"
      ],
      "metadata": {
        "colab": {
          "base_uri": "https://localhost:8080/"
        },
        "id": "ZRzJhhZmqRn-",
        "outputId": "bd13a425-32d1-4641-d716-97fb64ef12c2"
      },
      "execution_count": 4,
      "outputs": [
        {
          "output_type": "stream",
          "name": "stdout",
          "text": [
            "[1. 2. 3.]\n",
            "float32\n"
          ]
        }
      ]
    },
    {
      "cell_type": "markdown",
      "source": [
        "#altering data type"
      ],
      "metadata": {
        "id": "-wY0O_QNsdmc"
      }
    },
    {
      "cell_type": "code",
      "source": [
        "# creating an array with float64 elelments\n",
        "arrf = np.array([1.3, 7.8, 3.14], dtype=np.float64)\n",
        "print(arrf)\n",
        "print(arrf.dtype)"
      ],
      "metadata": {
        "colab": {
          "base_uri": "https://localhost:8080/"
        },
        "id": "CIMCLJ272LVf",
        "outputId": "7c3030c3-cf5d-4aa9-dd4b-19f0b829a02b"
      },
      "execution_count": 5,
      "outputs": [
        {
          "output_type": "stream",
          "name": "stdout",
          "text": [
            "[1.3  7.8  3.14]\n",
            "float64\n"
          ]
        }
      ]
    },
    {
      "cell_type": "code",
      "source": [
        "# converting float64 to int32 by astype function\n",
        "arri = arrf.astype(np.int64)\n",
        "print(arri)\n",
        "print(arri.dtype)"
      ],
      "metadata": {
        "colab": {
          "base_uri": "https://localhost:8080/"
        },
        "id": "8kMeXrw63FIS",
        "outputId": "982c707e-8cf1-49c9-f79c-ec8c2a1078cf"
      },
      "execution_count": 8,
      "outputs": [
        {
          "output_type": "stream",
          "name": "stdout",
          "text": [
            "[1 7 3]\n",
            "int64\n"
          ]
        }
      ]
    }
  ]
}