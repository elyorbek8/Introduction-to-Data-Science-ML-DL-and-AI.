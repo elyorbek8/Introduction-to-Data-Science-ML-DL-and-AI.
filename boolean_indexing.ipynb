{
  "nbformat": 4,
  "nbformat_minor": 0,
  "metadata": {
    "colab": {
      "provenance": [],
      "authorship_tag": "ABX9TyOVDj0326ICChrWNtIl35js",
      "include_colab_link": true
    },
    "kernelspec": {
      "name": "python3",
      "display_name": "Python 3"
    },
    "language_info": {
      "name": "python"
    }
  },
  "cells": [
    {
      "cell_type": "markdown",
      "metadata": {
        "id": "view-in-github",
        "colab_type": "text"
      },
      "source": [
        "<a href=\"https://colab.research.google.com/github/elyorbek8/Introduction-to-Data-Science-ML-DL-and-AI./blob/main/boolean_indexing.ipynb\" target=\"_parent\"><img src=\"https://colab.research.google.com/assets/colab-badge.svg\" alt=\"Open In Colab\"/></a>"
      ]
    },
    {
      "cell_type": "markdown",
      "source": [
        "#Boolean indexing"
      ],
      "metadata": {
        "id": "ok_KE74T8IXq"
      }
    },
    {
      "cell_type": "code",
      "execution_count": 12,
      "metadata": {
        "id": "-67Yykk47_t3"
      },
      "outputs": [],
      "source": [
        "import numpy as np"
      ]
    },
    {
      "cell_type": "code",
      "source": [
        "# names array\n",
        "names = np.array([\"alijon\",\"asadbek\",'diyor','valijon','alijon','asadbek'])\n",
        "names"
      ],
      "metadata": {
        "colab": {
          "base_uri": "https://localhost:8080/"
        },
        "id": "tN1fg-mG8PLl",
        "outputId": "cc48b35f-b5d7-49ae-c3d0-d088d5b71ff4"
      },
      "execution_count": 10,
      "outputs": [
        {
          "output_type": "execute_result",
          "data": {
            "text/plain": [
              "array(['alijon', 'asadbek', 'diyor', 'valijon', 'alijon', 'asadbek'],\n",
              "      dtype='<U7')"
            ]
          },
          "metadata": {},
          "execution_count": 10
        }
      ]
    },
    {
      "cell_type": "code",
      "source": [
        "names == 'alijon'"
      ],
      "metadata": {
        "colab": {
          "base_uri": "https://localhost:8080/"
        },
        "id": "l5zZlkeY8uY5",
        "outputId": "338734a3-66ec-4e64-f241-f053b90a42a1"
      },
      "execution_count": 4,
      "outputs": [
        {
          "output_type": "execute_result",
          "data": {
            "text/plain": [
              "array([ True, False, False, False,  True, False])"
            ]
          },
          "metadata": {},
          "execution_count": 4
        }
      ]
    },
    {
      "cell_type": "code",
      "source": [
        "data = np.random.randn(6,4) # generating 7x4 array with random info\n",
        "data\n"
      ],
      "metadata": {
        "colab": {
          "base_uri": "https://localhost:8080/"
        },
        "id": "9iKRTzTV8z-e",
        "outputId": "e49c742f-6ec5-4772-9695-43e7436d45e3"
      },
      "execution_count": 18,
      "outputs": [
        {
          "output_type": "execute_result",
          "data": {
            "text/plain": [
              "array([[-1.05195754, -1.6321563 ,  0.23778413,  1.04289094],\n",
              "       [ 0.06081532,  0.84294521, -0.95335383,  0.26021757],\n",
              "       [ 0.88899176, -1.31183781,  2.52164969,  0.04194128],\n",
              "       [-1.27694943, -1.50231127,  0.89385309,  0.24198407],\n",
              "       [-0.91229706, -0.06946103, -1.71360665, -1.87398016],\n",
              "       [ 0.05962757,  0.62217337,  0.03832834,  1.50767646]])"
            ]
          },
          "metadata": {},
          "execution_count": 18
        }
      ]
    },
    {
      "cell_type": "code",
      "source": [
        "# slicing an appropriate values by condition\n",
        "data[names == \"alijon\"]"
      ],
      "metadata": {
        "colab": {
          "base_uri": "https://localhost:8080/"
        },
        "id": "IN5g3aQH-MR_",
        "outputId": "af511d62-619c-4443-b322-1b7e2b861fec"
      },
      "execution_count": 19,
      "outputs": [
        {
          "output_type": "execute_result",
          "data": {
            "text/plain": [
              "array([[-1.05195754, -1.6321563 ,  0.23778413,  1.04289094],\n",
              "       [-0.91229706, -0.06946103, -1.71360665, -1.87398016]])"
            ]
          },
          "metadata": {},
          "execution_count": 19
        }
      ]
    },
    {
      "cell_type": "code",
      "source": [
        "# slicing by two condition\n",
        "data[(names == \"alijon\") |  (names == 'diyor'), :2]"
      ],
      "metadata": {
        "colab": {
          "base_uri": "https://localhost:8080/"
        },
        "id": "ug0D07DG-5uG",
        "outputId": "44fab9b0-f8f5-4e81-f1f7-998cf56f247a"
      },
      "execution_count": 24,
      "outputs": [
        {
          "output_type": "execute_result",
          "data": {
            "text/plain": [
              "array([[-1.05195754, -1.6321563 ],\n",
              "       [ 0.88899176, -1.31183781],\n",
              "       [-0.91229706, -0.06946103]])"
            ]
          },
          "metadata": {},
          "execution_count": 24
        }
      ]
    },
    {
      "cell_type": "code",
      "source": [
        "# replacing a specific valus by contion\n",
        "data[ data < 0 ] = 0 # replacing minus values with zeros\n",
        "data"
      ],
      "metadata": {
        "colab": {
          "base_uri": "https://localhost:8080/"
        },
        "id": "cxSnfCch_Obx",
        "outputId": "329bf1ef-5fd3-4687-d044-3bf0492c68a3"
      },
      "execution_count": 27,
      "outputs": [
        {
          "output_type": "execute_result",
          "data": {
            "text/plain": [
              "array([[0.        , 0.        , 0.23778413, 1.04289094],\n",
              "       [0.06081532, 0.84294521, 0.        , 0.26021757],\n",
              "       [0.88899176, 0.        , 2.52164969, 0.04194128],\n",
              "       [0.        , 0.        , 0.89385309, 0.24198407],\n",
              "       [0.        , 0.        , 0.        , 0.        ],\n",
              "       [0.05962757, 0.62217337, 0.03832834, 1.50767646]])"
            ]
          },
          "metadata": {},
          "execution_count": 27
        }
      ]
    },
    {
      "cell_type": "markdown",
      "source": [
        "#Just task"
      ],
      "metadata": {
        "id": "4xTrrqr2Nt0N"
      }
    },
    {
      "cell_type": "code",
      "source": [
        "names = np.array(['Hasan', 'Husan', 'Javohir', 'Elyor', 'Hasan', 'Javohir', 'Elyor'])\n",
        "data = np.array([[5, 6, 1, 1],\n",
        "   [9, 1, 1, 1],\n",
        "   [7, 7, 4, 2],\n",
        "   [1, 5, 1, 9],\n",
        "   [9, 9, 4, 5],\n",
        "   [7, 5, 9, 6],\n",
        "   [5, 3, 7, 4]])\n",
        "data2 = (names =='Javohir') | (names == 'Elyor')\n",
        "data[data2]\n"
      ],
      "metadata": {
        "colab": {
          "base_uri": "https://localhost:8080/"
        },
        "id": "zuA-YFVnNF9K",
        "outputId": "c870d952-6cff-4ec0-951e-d857a4313893"
      },
      "execution_count": 42,
      "outputs": [
        {
          "output_type": "execute_result",
          "data": {
            "text/plain": [
              "array([[7, 7, 4, 2],\n",
              "       [1, 5, 1, 9],\n",
              "       [7, 5, 9, 6],\n",
              "       [5, 3, 7, 4]])"
            ]
          },
          "metadata": {},
          "execution_count": 42
        }
      ]
    }
  ]
}