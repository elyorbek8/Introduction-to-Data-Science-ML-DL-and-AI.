{
  "nbformat": 4,
  "nbformat_minor": 0,
  "metadata": {
    "colab": {
      "provenance": [],
      "authorship_tag": "ABX9TyN11+k/xOfEsNZdIgvRZ7uz",
      "include_colab_link": true
    },
    "kernelspec": {
      "name": "python3",
      "display_name": "Python 3"
    },
    "language_info": {
      "name": "python"
    }
  },
  "cells": [
    {
      "cell_type": "markdown",
      "metadata": {
        "id": "view-in-github",
        "colab_type": "text"
      },
      "source": [
        "<a href=\"https://colab.research.google.com/github/elyorbek8/Introduction-to-Data-Science-ML-DL-and-AI./blob/main/statistical_f.ipynb\" target=\"_parent\"><img src=\"https://colab.research.google.com/assets/colab-badge.svg\" alt=\"Open In Colab\"/></a>"
      ]
    },
    {
      "cell_type": "markdown",
      "source": [
        "# Statistical functions/methods"
      ],
      "metadata": {
        "id": "qfZUM8hoxcXp"
      }
    },
    {
      "cell_type": "code",
      "execution_count": 1,
      "metadata": {
        "id": "v_imWAPPxZ3j"
      },
      "outputs": [],
      "source": [
        "import numpy as np"
      ]
    },
    {
      "cell_type": "code",
      "source": [
        "# creating an array\n",
        "arr1 = np.arange(1, 13).reshape(3, 4)\n",
        "arr1"
      ],
      "metadata": {
        "colab": {
          "base_uri": "https://localhost:8080/"
        },
        "id": "xYmGSr0zxp6U",
        "outputId": "079012b2-0944-4071-fa14-a43670d9f6db"
      },
      "execution_count": 2,
      "outputs": [
        {
          "output_type": "execute_result",
          "data": {
            "text/plain": [
              "array([[ 1,  2,  3,  4],\n",
              "       [ 5,  6,  7,  8],\n",
              "       [ 9, 10, 11, 12]])"
            ]
          },
          "metadata": {},
          "execution_count": 2
        }
      ]
    },
    {
      "cell_type": "code",
      "source": [
        "# sum() - sum of all elements\n",
        "# arr1.sum()\n",
        "np.sum(arr1)"
      ],
      "metadata": {
        "colab": {
          "base_uri": "https://localhost:8080/"
        },
        "id": "m5LnCyziyDfF",
        "outputId": "0f82abda-e367-47c6-9ef2-244bf9e53ca0"
      },
      "execution_count": 4,
      "outputs": [
        {
          "output_type": "execute_result",
          "data": {
            "text/plain": [
              "78"
            ]
          },
          "metadata": {},
          "execution_count": 4
        }
      ]
    },
    {
      "cell_type": "code",
      "source": [
        "# sum of each row and column\n",
        "sum_r = arr1.sum(axis = 1) # sum of rows\n",
        "sum_c = arr1.sum(axis = 0) # sum of columns\n",
        "\n",
        "print(f\"sum of each row: {sum_r}\\n that of each column: {sum_c}\")\n"
      ],
      "metadata": {
        "colab": {
          "base_uri": "https://localhost:8080/"
        },
        "id": "OP3ilRiGybrM",
        "outputId": "62aa7b78-97f8-4096-ecbf-7c0fb8261ac7"
      },
      "execution_count": 6,
      "outputs": [
        {
          "output_type": "stream",
          "name": "stdout",
          "text": [
            "sum of each row: [10 26 42]\n",
            " that of each column: [15 18 21 24]\n"
          ]
        }
      ]
    },
    {
      "cell_type": "code",
      "source": [
        "# mean()\n",
        "mean_arr1 = arr1.mean()\n",
        "mean_arr1"
      ],
      "metadata": {
        "colab": {
          "base_uri": "https://localhost:8080/"
        },
        "id": "4OKkE3Kw0-yE",
        "outputId": "f015907f-42b5-4a15-eb2e-143d6286e158"
      },
      "execution_count": 7,
      "outputs": [
        {
          "output_type": "execute_result",
          "data": {
            "text/plain": [
              "6.5"
            ]
          },
          "metadata": {},
          "execution_count": 7
        }
      ]
    },
    {
      "cell_type": "code",
      "source": [
        "arr1"
      ],
      "metadata": {
        "colab": {
          "base_uri": "https://localhost:8080/"
        },
        "id": "Tq4COgRn2kyz",
        "outputId": "5588ed57-4a7c-4602-cc79-5b8e5cb37ed5"
      },
      "execution_count": 16,
      "outputs": [
        {
          "output_type": "execute_result",
          "data": {
            "text/plain": [
              "array([[ 1,  2,  3,  4],\n",
              "       [ 5,  6,  7,  8],\n",
              "       [ 9, 10, 11, 12]])"
            ]
          },
          "metadata": {},
          "execution_count": 16
        }
      ]
    },
    {
      "cell_type": "code",
      "source": [
        "# cumulative sum of the data\n",
        "np.cumsum(arr1)"
      ],
      "metadata": {
        "colab": {
          "base_uri": "https://localhost:8080/"
        },
        "id": "y0JcLx9H2mU7",
        "outputId": "707d4c6b-08db-41d6-fd3f-4957fb4d01b9"
      },
      "execution_count": 18,
      "outputs": [
        {
          "output_type": "execute_result",
          "data": {
            "text/plain": [
              "array([ 1,  3,  6, 10, 15, 21, 28, 36, 45, 55, 66, 78])"
            ]
          },
          "metadata": {},
          "execution_count": 18
        }
      ]
    }
  ]
}